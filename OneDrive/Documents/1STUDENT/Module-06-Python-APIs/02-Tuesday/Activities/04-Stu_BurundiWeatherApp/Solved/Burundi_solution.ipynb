{
 "cells": [
  {
   "cell_type": "code",
   "execution_count": 3,
   "metadata": {},
   "outputs": [],
   "source": [
    "# Dependencies\n",
    "import requests\n",
    "from config import api_key\n",
    "\n",
    "# Save config information.\n",
    "city = \"Bujumbura\"\n",
    "url = \"http://api.openweathermap.org/data/2.5/weather?\"\n",
    "\n",
    "units = \"metric\""
   ]
  },
  {
   "cell_type": "code",
   "execution_count": null,
   "metadata": {},
   "outputs": [],
   "source": [
    "# Build query URL and request your results in Celsius\n",
    "query_url = f\"{url}appid={api_key}&q={city}&units={units}\"\n",
    "\n",
    "# Get weather data\n",
    "weather_response = requests.get(query_url)\n",
    "weather_json = weather_response.json()"
   ]
  },
  {
   "cell_type": "code",
   "execution_count": null,
   "metadata": {},
   "outputs": [],
   "source": [
    "# Get temperature from JSON response\n",
    "temperature = weather_json[\"main\"][\"temp\"]"
   ]
  },
  {
   "cell_type": "code",
   "execution_count": null,
   "metadata": {},
   "outputs": [],
   "source": [
    "# Report temperature\n",
    "print(f\"The temperature in Bujumbura is {temperature} C.\")"
   ]
  },
  {
   "cell_type": "code",
   "execution_count": 4,
   "metadata": {},
   "outputs": [
    {
     "ename": "KeyError",
     "evalue": "'main'",
     "output_type": "error",
     "traceback": [
      "\u001b[1;31m---------------------------------------------------------------------------\u001b[0m",
      "\u001b[1;31mKeyError\u001b[0m                                  Traceback (most recent call last)",
      "Cell \u001b[1;32mIn[4], line 19\u001b[0m\n\u001b[0;32m     16\u001b[0m     weather_json \u001b[38;5;241m=\u001b[39m weather_response\u001b[38;5;241m.\u001b[39mjson()\n\u001b[0;32m     18\u001b[0m     \u001b[38;5;66;03m# Get temperature from JSON response\u001b[39;00m\n\u001b[1;32m---> 19\u001b[0m     temperature \u001b[38;5;241m=\u001b[39m \u001b[43mweather_json\u001b[49m\u001b[43m[\u001b[49m\u001b[38;5;124;43m\"\u001b[39;49m\u001b[38;5;124;43mmain\u001b[39;49m\u001b[38;5;124;43m\"\u001b[39;49m\u001b[43m]\u001b[49m[\u001b[38;5;124m\"\u001b[39m\u001b[38;5;124mtemp\u001b[39m\u001b[38;5;124m\"\u001b[39m]\n\u001b[0;32m     21\u001b[0m     temperatures\u001b[38;5;241m.\u001b[39mappend(temperature)\n\u001b[0;32m     23\u001b[0m \u001b[38;5;66;03m# Report temperatures by accessing each element in the list\u001b[39;00m\n",
      "\u001b[1;31mKeyError\u001b[0m: 'main'"
     ]
    }
   ],
   "source": [
    "# BONUS\n",
    "\n",
    "# use list of units\n",
    "units = [\"metric\", \"imperial\"]\n",
    "\n",
    "# set up list to hold two different temperatures\n",
    "temperatures = []\n",
    "\n",
    "# loop through the list of units and append them to temperatures list\n",
    "for unit in units:\n",
    "    # Build query URL based on current element in units\n",
    "    query_url = url + \"appid=\" + api_key + \"&q=\" + city + \"&units=\" + unit\n",
    "\n",
    "    # Get weather data\n",
    "    weather_response = requests.get(query_url)\n",
    "    weather_json = weather_response.json()\n",
    "\n",
    "    # Get temperature from JSON response\n",
    "    temperature = weather_json[\"main\"][\"temp\"]\n",
    "\n",
    "    temperatures.append(temperature)\n",
    "\n",
    "# Report temperatures by accessing each element in the list\n",
    "print(f\"The temperature in Bujumbura is ({temperatures[0]}C or {temperatures[1]}F.\")"
   ]
  },
  {
   "cell_type": "code",
   "execution_count": null,
   "metadata": {},
   "outputs": [],
   "source": []
  }
 ],
 "metadata": {
  "kernelspec": {
   "display_name": "Python 3 (ipykernel)",
   "language": "python",
   "name": "python3"
  },
  "language_info": {
   "codemirror_mode": {
    "name": "ipython",
    "version": 3
   },
   "file_extension": ".py",
   "mimetype": "text/x-python",
   "name": "python",
   "nbconvert_exporter": "python",
   "pygments_lexer": "ipython3",
   "version": "3.10.13"
  },
  "varInspector": {
   "cols": {
    "lenName": 16,
    "lenType": 16,
    "lenVar": 40
   },
   "kernels_config": {
    "python": {
     "delete_cmd_postfix": "",
     "delete_cmd_prefix": "del ",
     "library": "var_list.py",
     "varRefreshCmd": "print(var_dic_list())"
    },
    "r": {
     "delete_cmd_postfix": ") ",
     "delete_cmd_prefix": "rm(",
     "library": "var_list.r",
     "varRefreshCmd": "cat(var_dic_list()) "
    }
   },
   "types_to_exclude": [
    "module",
    "function",
    "builtin_function_or_method",
    "instance",
    "_Feature"
   ],
   "window_display": false
  }
 },
 "nbformat": 4,
 "nbformat_minor": 2
}
