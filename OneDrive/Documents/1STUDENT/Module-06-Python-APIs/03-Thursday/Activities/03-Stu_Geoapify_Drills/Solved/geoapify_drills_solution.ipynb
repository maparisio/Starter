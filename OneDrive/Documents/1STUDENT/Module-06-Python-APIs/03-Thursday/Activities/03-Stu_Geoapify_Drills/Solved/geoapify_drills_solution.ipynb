{
 "cells": [
  {
   "cell_type": "markdown",
   "metadata": {},
   "source": [
    "# Geoapify Drills\n",
    "\n",
    "Create code to answer each of the following questions.\n",
    "\n",
    "> **Hint:** You will need multiple target URLs and multiple API requests."
   ]
  },
  {
   "cell_type": "code",
   "execution_count": null,
   "metadata": {},
   "outputs": [],
   "source": [
    "# Dependencies\n",
    "import requests\n",
    "import json\n",
    "\n",
    "# Import the API key\n",
    "from config import geoapify_key"
   ]
  },
  {
   "cell_type": "markdown",
   "metadata": {},
   "source": [
    "## 1. What are the geocoordinates (latitude and longitude) of Brisbane, Australia?"
   ]
  },
  {
   "cell_type": "code",
   "execution_count": null,
   "metadata": {},
   "outputs": [],
   "source": [
    "# Set the search parameters\n",
    "target_city = \"Brisbane, Australia\"\n",
    "\n",
    "params = {\n",
    "    \"text\": target_city,\n",
    "    \"apiKey\": geoapify_key\n",
    "}\n",
    "\n",
    "# Build URL using the geocode endpoint\n",
    "base_url = \"https://api.geoapify.com/v1/geocode/search\""
   ]
  },
  {
   "cell_type": "code",
   "execution_count": null,
   "metadata": {
    "scrolled": true,
    "tags": []
   },
   "outputs": [],
   "source": [
    "# Run request\n",
    "response = requests.get(base_url, params=params).json()\n",
    "\n",
    "# Print the json (pretty printed)\n",
    "print(json.dumps(response, indent=4, sort_keys=True))"
   ]
  },
  {
   "cell_type": "code",
   "execution_count": null,
   "metadata": {},
   "outputs": [],
   "source": [
    "# Extract lat/lon\n",
    "lat = response[\"features\"][0][\"properties\"][\"lat\"]\n",
    "lon = response[\"features\"][0][\"properties\"][\"lon\"]\n",
    "\n",
    "# Print results\n",
    "print(f\"{target_city}: {lat}, {lon}\")"
   ]
  },
  {
   "cell_type": "markdown",
   "metadata": {},
   "source": [
    "## 2. What are the geocoordinates (latitude and longitude) of The Sydney Opera House?"
   ]
  },
  {
   "cell_type": "code",
   "execution_count": null,
   "metadata": {},
   "outputs": [],
   "source": [
    "# update params dict\n",
    "target_city = \"Sydney Opera House\"\n",
    "\n",
    "params = {\n",
    "    \"text\": target_city,\n",
    "    \"apiKey\": geoapify_key\n",
    "}\n",
    "\n",
    "# Build URL using the geocode endpoint\n",
    "base_url = \"https://api.geoapify.com/v1/geocode/search\""
   ]
  },
  {
   "cell_type": "code",
   "execution_count": null,
   "metadata": {
    "scrolled": true,
    "tags": []
   },
   "outputs": [],
   "source": [
    "# Run request\n",
    "response = requests.get(base_url, params=params).json()\n",
    "\n",
    "# Print the json (pretty printed)\n",
    "print(json.dumps(response, indent=4, sort_keys=True))"
   ]
  },
  {
   "cell_type": "code",
   "execution_count": null,
   "metadata": {},
   "outputs": [],
   "source": [
    "# Extract lat/lon\n",
    "lat = response[\"features\"][0][\"properties\"][\"lat\"]\n",
    "lon = response[\"features\"][0][\"properties\"][\"lon\"]\n",
    "\n",
    "# Print results\n",
    "print(f\"{target_city}: {lat}, {lon}\")"
   ]
  },
  {
   "cell_type": "markdown",
   "metadata": {},
   "source": [
    "## 3. Find the name and address of a pharmacy in Brisbane, Australia.\n",
    "\n",
    "> **Hint:** Review <https://apidocs.geoapify.com/docs/places/#categories>."
   ]
  },
  {
   "cell_type": "code",
   "execution_count": null,
   "metadata": {},
   "outputs": [],
   "source": [
    "# Set the geographical coordinates for Brisbane, Australia\n",
    "latitude = -27.4705\n",
    "longitude = 153.0260\n",
    "\n",
    "# Set the parameters for the type of place\n",
    "categories = \"healthcare.pharmacy\"\n",
    "\n",
    "# Set the parameters for the type of search\n",
    "bias = f\"proximity:{longitude},{latitude}\"\n",
    "limit = 20\n",
    "\n",
    "# set up a parameters dictionary\n",
    "params = {\n",
    "    \"categories\":categories,\n",
    "    \"limit\":limit,\n",
    "    \"bias\":bias,\n",
    "    \"apiKey\":geoapify_key    \n",
    "}\n",
    "\n",
    "# Set base URL\n",
    "base_url = \"https://api.geoapify.com/v2/places\""
   ]
  },
  {
   "cell_type": "code",
   "execution_count": null,
   "metadata": {
    "scrolled": true,
    "tags": []
   },
   "outputs": [],
   "source": [
    "# Run request\n",
    "response = requests.get(base_url, params=params).json()\n",
    "\n",
    "# Print the json (pretty printed)\n",
    "print(json.dumps(response, indent=4, sort_keys=True))"
   ]
  },
  {
   "cell_type": "code",
   "execution_count": null,
   "metadata": {},
   "outputs": [],
   "source": [
    "# Print the results\n",
    "print(response[\"features\"][0][\"properties\"][\"name\"])\n",
    "print(response[\"features\"][0][\"properties\"][\"address_line2\"])"
   ]
  },
  {
   "cell_type": "markdown",
   "metadata": {},
   "source": [
    "## 4. Find a pet shop within a 5km radius from the Sydney Opera House."
   ]
  },
  {
   "cell_type": "code",
   "execution_count": null,
   "metadata": {},
   "outputs": [],
   "source": [
    "# Set the geographical coordinates for the Sydney Opera House\n",
    "latitude = -33.85729805\n",
    "longitude = 151.21512338473752\n",
    "\n",
    "# Set the parameters for the type of place\n",
    "categories = \"commercial.pet\"\n",
    "radius = 5000\n",
    "\n",
    "# Set the parameters for the type of search\n",
    "filters = f\"circle:{longitude},{latitude},{radius}\"\n",
    "bias = f\"proximity:{longitude},{latitude}\"\n",
    "limit = 20\n",
    "\n",
    "# set up a parameters dictionary\n",
    "params = {\n",
    "    \"categories\":categories,\n",
    "    \"limit\":limit,\n",
    "    \"filter\":filters,\n",
    "    \"bias\":bias,\n",
    "    \"apiKey\":geoapify_key    \n",
    "}\n",
    "\n",
    "# Set base URL\n",
    "base_url = \"https://api.geoapify.com/v2/places\""
   ]
  },
  {
   "cell_type": "code",
   "execution_count": null,
   "metadata": {
    "scrolled": true,
    "tags": []
   },
   "outputs": [],
   "source": [
    "# Run request\n",
    "response = requests.get(base_url, params=params).json()\n",
    "\n",
    "# Print the json (pretty printed)\n",
    "print(json.dumps(response, indent=4, sort_keys=True))"
   ]
  },
  {
   "cell_type": "code",
   "execution_count": null,
   "metadata": {},
   "outputs": [],
   "source": [
    "# Print the results\n",
    "print(response[\"features\"][0][\"properties\"][\"name\"])\n",
    "print(response[\"features\"][0][\"properties\"][\"address_line2\"])"
   ]
  },
  {
   "cell_type": "markdown",
   "metadata": {},
   "source": [
    "## 5. Find the nearest dentist to your house.\n",
    "\n",
    "> **Hint:** Use Geoapify Geocode to find your latitude and Geoapify Places to find the dentist."
   ]
  },
  {
   "cell_type": "code",
   "execution_count": null,
   "metadata": {},
   "outputs": [],
   "source": [
    "# Geoapify Geocode to find latitude and longitude\n",
    "my_address = \"1309 Hay St, West Perth WA 6005, Australia\"\n",
    "\n",
    "params = {\n",
    "    \"text\": my_address,\n",
    "    \"apiKey\": geoapify_key\n",
    "}\n",
    "\n",
    "# Build URL using the geocode endpoint\n",
    "base_url = \"https://api.geoapify.com/v1/geocode/search\""
   ]
  },
  {
   "cell_type": "code",
   "execution_count": null,
   "metadata": {
    "scrolled": true,
    "tags": []
   },
   "outputs": [],
   "source": [
    "# Run request\n",
    "response = requests.get(base_url, params=params).json()\n",
    "\n",
    "# Print the json (pretty printed)\n",
    "print(json.dumps(response, indent=4, sort_keys=True))"
   ]
  },
  {
   "cell_type": "code",
   "execution_count": null,
   "metadata": {},
   "outputs": [],
   "source": [
    "# Extract lat/lon\n",
    "lat = response[\"features\"][0][\"properties\"][\"lat\"]\n",
    "lon = response[\"features\"][0][\"properties\"][\"lon\"]\n",
    "\n",
    "# Print results\n",
    "print(f\"{my_address}: {lat}, {lon}\")"
   ]
  },
  {
   "cell_type": "code",
   "execution_count": null,
   "metadata": {},
   "outputs": [],
   "source": [
    "# Set the geographical coordinates for my home\n",
    "latitude = -31.9477365\n",
    "longitude = 115.8387213036199\n",
    "\n",
    "# Set the parameters for the type of place\n",
    "categories = \"healthcare.dentist\"\n",
    "\n",
    "# Set the parameters for the type of search\n",
    "bias = f\"proximity:{longitude},{latitude}\"\n",
    "limit = 20\n",
    "\n",
    "# set up a parameters dictionary\n",
    "params = {\n",
    "    \"categories\":categories,\n",
    "    \"limit\":limit,\n",
    "    \"bias\":bias,\n",
    "    \"apiKey\":geoapify_key    \n",
    "}\n",
    "\n",
    "# Set base URL\n",
    "base_url = \"https://api.geoapify.com/v2/places\""
   ]
  },
  {
   "cell_type": "code",
   "execution_count": null,
   "metadata": {
    "scrolled": true,
    "tags": []
   },
   "outputs": [],
   "source": [
    "# Run request\n",
    "response = requests.get(base_url, params=params).json()\n",
    "\n",
    "# Print the json (pretty printed)\n",
    "print(json.dumps(response, indent=4, sort_keys=True))"
   ]
  },
  {
   "cell_type": "code",
   "execution_count": null,
   "metadata": {},
   "outputs": [],
   "source": [
    "# Print the results\n",
    "print(response[\"features\"][0][\"properties\"][\"name\"])\n",
    "print(response[\"features\"][0][\"properties\"][\"address_line2\"])"
   ]
  },
  {
   "cell_type": "markdown",
   "metadata": {},
   "source": [
    "## 6. Bonus: Find the names and addresses of the five nearest restaurants with internet access in your home city area.\n",
    "\n",
    "> **Hint:** Read about the `proximity` bias to order the results from the nearest to the farest place. Also, read about the `conditions` to identify places that provide internet access."
   ]
  },
  {
   "cell_type": "code",
   "execution_count": null,
   "metadata": {},
   "outputs": [],
   "source": [
    "# Set the geographical coordinates for my home\n",
    "latitude = -31.9477365\n",
    "longitude = 115.8387213036199\n",
    "\n",
    "# Set the parameters for the type of place\n",
    "categories = \"catering.restaurant\"\n",
    "conditions = \"internet_access\"\n",
    "\n",
    "# Set the parameters for the type of search\n",
    "bias = f\"proximity:{longitude},{latitude}\"\n",
    "limit = 20\n",
    "\n",
    "# set up a parameters dictionary\n",
    "params = {\n",
    "    \"categories\":categories,\n",
    "    \"conditions\":conditions,\n",
    "    \"limit\":limit,\n",
    "    \"bias\":bias,\n",
    "    \"apiKey\":geoapify_key    \n",
    "}\n",
    "\n",
    "# Set base URL\n",
    "base_url = \"https://api.geoapify.com/v2/places\""
   ]
  },
  {
   "cell_type": "code",
   "execution_count": null,
   "metadata": {
    "scrolled": true,
    "tags": []
   },
   "outputs": [],
   "source": [
    "# Run request\n",
    "response = requests.get(base_url, params=params).json()\n",
    "\n",
    "# Print the json (pretty printed)\n",
    "print(json.dumps(response, indent=4, sort_keys=True))"
   ]
  },
  {
   "cell_type": "code",
   "execution_count": null,
   "metadata": {},
   "outputs": [],
   "source": [
    "# Print the results\n",
    "counter = 0\n",
    "\n",
    "for place in response[\"features\"]:\n",
    "    print(f\"Restaurant {counter+1}:\")\n",
    "    print(place[\"properties\"][\"name\"])\n",
    "    print(place[\"properties\"][\"address_line2\"])\n",
    "    print(\"*\"*20)\n",
    "    counter = counter + 1\n",
    "    if counter == 5:\n",
    "        break"
   ]
  },
  {
   "cell_type": "code",
   "execution_count": null,
   "metadata": {},
   "outputs": [],
   "source": []
  }
 ],
 "metadata": {
  "kernelspec": {
   "display_name": "Python 3 (ipykernel)",
   "language": "python",
   "name": "python3"
  },
  "language_info": {
   "codemirror_mode": {
    "name": "ipython",
    "version": 3
   },
   "file_extension": ".py",
   "mimetype": "text/x-python",
   "name": "python",
   "nbconvert_exporter": "python",
   "pygments_lexer": "ipython3",
   "version": "3.10.13"
  }
 },
 "nbformat": 4,
 "nbformat_minor": 4
}
